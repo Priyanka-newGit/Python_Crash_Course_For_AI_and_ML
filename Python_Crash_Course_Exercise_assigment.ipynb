{
 "cells": [
  {
   "cell_type": "markdown",
   "id": "3847c325",
   "metadata": {},
   "source": [
    "what is 7 to the power of 4?"
   ]
  },
  {
   "cell_type": "code",
   "execution_count": 1,
   "id": "17014155",
   "metadata": {},
   "outputs": [
    {
     "data": {
      "text/plain": [
       "2401"
      ]
     },
     "execution_count": 1,
     "metadata": {},
     "output_type": "execute_result"
    }
   ],
   "source": [
    "7**4"
   ]
  },
  {
   "cell_type": "markdown",
   "id": "3f709724",
   "metadata": {},
   "source": [
    "Split the string"
   ]
  },
  {
   "cell_type": "code",
   "execution_count": 2,
   "id": "cdbb40b5",
   "metadata": {},
   "outputs": [],
   "source": [
    "s = 'Hi there Priyanka'"
   ]
  },
  {
   "cell_type": "code",
   "execution_count": 3,
   "id": "afdf0b40",
   "metadata": {},
   "outputs": [
    {
     "data": {
      "text/plain": [
       "['Hi', 'there', 'Priyanka']"
      ]
     },
     "execution_count": 3,
     "metadata": {},
     "output_type": "execute_result"
    }
   ],
   "source": [
    "s.split()"
   ]
  },
  {
   "cell_type": "code",
   "execution_count": 4,
   "id": "f08bf55e",
   "metadata": {},
   "outputs": [],
   "source": [
    "planet = 'Earth'\n",
    "diameter = 12742"
   ]
  },
  {
   "cell_type": "markdown",
   "id": "7cbcff8c",
   "metadata": {},
   "source": [
    "<b>Given the variables</b>\n",
    "    \n",
    "    planet = 'Earth'\n",
    "    diameter = 12742\n",
    "    \n",
    " Use .format() to print the following string\n",
    "    \n",
    " The diameter of the Earth is 12742 kilometers"
   ]
  },
  {
   "cell_type": "code",
   "execution_count": 12,
   "id": "ea3c586e",
   "metadata": {},
   "outputs": [
    {
     "name": "stdout",
     "output_type": "stream",
     "text": [
      "The diameter of Earth is 12742 kilometers\n"
     ]
    }
   ],
   "source": [
    "print('The diameter of {} is {} kilometers'.format(planet,diameter))"
   ]
  },
  {
   "cell_type": "code",
   "execution_count": 13,
   "id": "3bce11a5",
   "metadata": {},
   "outputs": [],
   "source": [
    "lst = [1,2,[3,4],[5,[100,200,['hello']],23,11],1,7]"
   ]
  },
  {
   "cell_type": "code",
   "execution_count": 14,
   "id": "236a8d0c",
   "metadata": {},
   "outputs": [
    {
     "data": {
      "text/plain": [
       "[1, 2, [3, 4], [5, [100, 200, ['hello']], 23, 11], 1, 7]"
      ]
     },
     "execution_count": 14,
     "metadata": {},
     "output_type": "execute_result"
    }
   ],
   "source": [
    "lst"
   ]
  },
  {
   "cell_type": "code",
   "execution_count": 21,
   "id": "96326180",
   "metadata": {},
   "outputs": [
    {
     "data": {
      "text/plain": [
       "'hello'"
      ]
     },
     "execution_count": 21,
     "metadata": {},
     "output_type": "execute_result"
    }
   ],
   "source": [
    "lst[3][1][2][0]"
   ]
  },
  {
   "cell_type": "code",
   "execution_count": 25,
   "id": "787b8342",
   "metadata": {},
   "outputs": [],
   "source": [
    "d = {'k1':[1,2,3,{'trickey':['oh','man','inception',{'target':[1,2,3,'hello']}]}]}"
   ]
  },
  {
   "cell_type": "code",
   "execution_count": 26,
   "id": "58bc8161",
   "metadata": {},
   "outputs": [
    {
     "data": {
      "text/plain": [
       "{'k1': [1,\n",
       "  2,\n",
       "  3,\n",
       "  {'trickey': ['oh', 'man', 'inception', {'target': [1, 2, 3, 'hello']}]}]}"
      ]
     },
     "execution_count": 26,
     "metadata": {},
     "output_type": "execute_result"
    }
   ],
   "source": [
    "d"
   ]
  },
  {
   "cell_type": "code",
   "execution_count": 27,
   "id": "61fd51ae",
   "metadata": {},
   "outputs": [
    {
     "data": {
      "text/plain": [
       "{'trickey': ['oh', 'man', 'inception', {'target': [1, 2, 3, 'hello']}]}"
      ]
     },
     "execution_count": 27,
     "metadata": {},
     "output_type": "execute_result"
    }
   ],
   "source": [
    "d['k1'][3]"
   ]
  },
  {
   "cell_type": "code",
   "execution_count": 28,
   "id": "5a31f079",
   "metadata": {},
   "outputs": [
    {
     "data": {
      "text/plain": [
       "{'target': [1, 2, 3, 'hello']}"
      ]
     },
     "execution_count": 28,
     "metadata": {},
     "output_type": "execute_result"
    }
   ],
   "source": [
    "d['k1'][3]['trickey'][3]"
   ]
  },
  {
   "cell_type": "code",
   "execution_count": 29,
   "id": "e72240cc",
   "metadata": {},
   "outputs": [
    {
     "data": {
      "text/plain": [
       "'hello'"
      ]
     },
     "execution_count": 29,
     "metadata": {},
     "output_type": "execute_result"
    }
   ],
   "source": [
    "d['k1'][3]['trickey'][3]['target'][3]"
   ]
  },
  {
   "cell_type": "markdown",
   "id": "4f85d0c1",
   "metadata": {},
   "source": [
    "# what is the main difference betwen list and tuple"
   ]
  },
  {
   "cell_type": "code",
   "execution_count": 30,
   "id": "00e2234f",
   "metadata": {},
   "outputs": [],
   "source": [
    "#Tuple is immutable where as a list is mutable"
   ]
  },
  {
   "cell_type": "markdown",
   "id": "e46731b8",
   "metadata": {},
   "source": [
    "Create  a function that grabs the email website domain from a string in the form\n",
    "    user@domain.com\n",
    "    \n",
    "so for example, passing \"user@domain.com\" would return: domain.com"
   ]
  },
  {
   "cell_type": "code",
   "execution_count": 35,
   "id": "e77c52ee",
   "metadata": {},
   "outputs": [],
   "source": [
    "def domainGet(mailid):\n",
    "    lst = mailid.split('@')\n",
    "    return lst[1]"
   ]
  },
  {
   "cell_type": "code",
   "execution_count": 36,
   "id": "c9da7623",
   "metadata": {},
   "outputs": [
    {
     "data": {
      "text/plain": [
       "'domain.com'"
      ]
     },
     "execution_count": 36,
     "metadata": {},
     "output_type": "execute_result"
    }
   ],
   "source": [
    "domainGet(\"user@domain.com\")"
   ]
  },
  {
   "cell_type": "code",
   "execution_count": 37,
   "id": "6612b2f4",
   "metadata": {},
   "outputs": [],
   "source": [
    "def domainGet(mailid):\n",
    "    return mailid.split('@')[-1]"
   ]
  },
  {
   "cell_type": "code",
   "execution_count": 38,
   "id": "643d3674",
   "metadata": {},
   "outputs": [
    {
     "data": {
      "text/plain": [
       "'domain.com'"
      ]
     },
     "execution_count": 38,
     "metadata": {},
     "output_type": "execute_result"
    }
   ],
   "source": [
    "domainGet(\"user@domain.com\")"
   ]
  },
  {
   "cell_type": "code",
   "execution_count": 53,
   "id": "be890635",
   "metadata": {},
   "outputs": [],
   "source": [
    "def find_dog(myString):\n",
    "    if 'dog' in myString.lower().split():\n",
    "        return True\n",
    "    else:\n",
    "        return False  "
   ]
  },
  {
   "cell_type": "code",
   "execution_count": 54,
   "id": "3c5ca2ce",
   "metadata": {},
   "outputs": [
    {
     "data": {
      "text/plain": [
       "True"
      ]
     },
     "execution_count": 54,
     "metadata": {},
     "output_type": "execute_result"
    }
   ],
   "source": [
    "find_dog('Is there a dog')"
   ]
  },
  {
   "cell_type": "code",
   "execution_count": 55,
   "id": "f99a67d4",
   "metadata": {},
   "outputs": [
    {
     "data": {
      "text/plain": [
       "False"
      ]
     },
     "execution_count": 55,
     "metadata": {},
     "output_type": "execute_result"
    }
   ],
   "source": [
    "find_dog(\"This is cool\")"
   ]
  },
  {
   "cell_type": "code",
   "execution_count": 56,
   "id": "d6c50c87",
   "metadata": {},
   "outputs": [
    {
     "data": {
      "text/plain": [
       "True"
      ]
     },
     "execution_count": 56,
     "metadata": {},
     "output_type": "execute_result"
    }
   ],
   "source": [
    "'dog' in 'Is there dog'"
   ]
  },
  {
   "cell_type": "code",
   "execution_count": 67,
   "id": "6e5ee5af",
   "metadata": {},
   "outputs": [],
   "source": [
    "def count_of_dog(st):\n",
    "    count = 0\n",
    "    lst = st.lower().split()\n",
    "    for word in lst:\n",
    "        if word == 'dog':\n",
    "            count += 1\n",
    "    return count      "
   ]
  },
  {
   "cell_type": "code",
   "execution_count": 68,
   "id": "ed1b2b43",
   "metadata": {},
   "outputs": [
    {
     "data": {
      "text/plain": [
       "2"
      ]
     },
     "execution_count": 68,
     "metadata": {},
     "output_type": "execute_result"
    }
   ],
   "source": [
    "count_of_dog(\"The dog runs faster than the other dog dude\")"
   ]
  },
  {
   "cell_type": "code",
   "execution_count": 81,
   "id": "d4c12b80",
   "metadata": {},
   "outputs": [],
   "source": [
    "def ticket(speed,is_birthday):\n",
    "    if is_birthday:\n",
    "        speeding = speed -5\n",
    "    else:\n",
    "        speeding = speed\n",
    "    if speeding <=60:\n",
    "        return 'No ticket'\n",
    "    elif (speeding >=61) and (speeding <=80):\n",
    "        return 'Small ticket'\n",
    "    elif (speeding >=81):\n",
    "        return 'Big Ticket'\n",
    "    else:\n",
    "        return 'Nothing'"
   ]
  },
  {
   "cell_type": "code",
   "execution_count": 82,
   "id": "68f070c5",
   "metadata": {},
   "outputs": [
    {
     "data": {
      "text/plain": [
       "'Small ticket'"
      ]
     },
     "execution_count": 82,
     "metadata": {},
     "output_type": "execute_result"
    }
   ],
   "source": [
    "ticket(81,True)"
   ]
  },
  {
   "cell_type": "code",
   "execution_count": 83,
   "id": "a5019409",
   "metadata": {},
   "outputs": [
    {
     "data": {
      "text/plain": [
       "'Big Ticket'"
      ]
     },
     "execution_count": 83,
     "metadata": {},
     "output_type": "execute_result"
    }
   ],
   "source": [
    "ticket(81,False)"
   ]
  },
  {
   "cell_type": "code",
   "execution_count": null,
   "id": "a7a561a1",
   "metadata": {},
   "outputs": [],
   "source": []
  }
 ],
 "metadata": {
  "kernelspec": {
   "display_name": "Python 3 (ipykernel)",
   "language": "python",
   "name": "python3"
  },
  "language_info": {
   "codemirror_mode": {
    "name": "ipython",
    "version": 3
   },
   "file_extension": ".py",
   "mimetype": "text/x-python",
   "name": "python",
   "nbconvert_exporter": "python",
   "pygments_lexer": "ipython3",
   "version": "3.9.13"
  }
 },
 "nbformat": 4,
 "nbformat_minor": 5
}
